{
 "cells": [
  {
   "cell_type": "markdown",
   "metadata": {},
   "source": [
    "# Week-5: Create a simple convolution network using tf.contrib.keras"
   ]
  },
  {
   "cell_type": "markdown",
   "metadata": {},
   "source": [
    "## Get the input data (only the first 'n' labels) from MNIST"
   ]
  },
  {
   "cell_type": "code",
   "execution_count": 1,
   "metadata": {
    "scrolled": true
   },
   "outputs": [
    {
     "name": "stdout",
     "output_type": "stream",
     "text": [
      "Extracting MNIST\\train-images-idx3-ubyte.gz\n",
      "Extracting MNIST\\train-labels-idx1-ubyte.gz\n",
      "Extracting MNIST\\t10k-images-idx3-ubyte.gz\n",
      "Extracting MNIST\\t10k-labels-idx1-ubyte.gz\n"
     ]
    }
   ],
   "source": [
    "from tensorflow.examples.tutorials.mnist import input_data\n",
    "mnist = input_data.read_data_sets(\"MNIST\", one_hot=True)"
   ]
  },
  {
   "cell_type": "markdown",
   "metadata": {},
   "source": [
    "## Prepare Session"
   ]
  },
  {
   "cell_type": "code",
   "execution_count": 2,
   "metadata": {
    "collapsed": true
   },
   "outputs": [],
   "source": [
    "import numpy as np"
   ]
  },
  {
   "cell_type": "code",
   "execution_count": 3,
   "metadata": {
    "collapsed": true
   },
   "outputs": [],
   "source": [
    "import tensorflow as tf\n",
    "from tensorflow.contrib import keras\n",
    "# from tensorflow.contrib.keras.layers import *"
   ]
  },
  {
   "cell_type": "markdown",
   "metadata": {},
   "source": [
    "## Define a sequential model"
   ]
  },
  {
   "cell_type": "code",
   "execution_count": 4,
   "metadata": {
    "collapsed": true
   },
   "outputs": [],
   "source": [
    "inputs = keras.layers.Input(shape=(784,))\n",
    "\n",
    "# Reshape layer, takes (-1, 784) as input, (-1, 28, 28, 1) as output\n",
    "reshape_layer = keras.layers.Reshape((28, 28, 1), input_shape=(784, ))(inputs)\n",
    "\n",
    "\n",
    "# Convolution 2D layer, takes (-1, 28, 28, 1) as input, (-1, 13, 13, 32) as output\n",
    "conv_2D_layer = keras.layers.Conv2D(filters=32, kernel_size=(3,3), strides=(2, 2), activation=\"relu\")(reshape_layer)\n",
    "\n",
    "# Flatten layer, takes (-1, 13, 13, 32) as input, (-1, 13*13*32) as output\n",
    "flatten_layer = keras.layers.Flatten()(conv_2D_layer)\n",
    "\n",
    "# Dense layer, takes (-1, 5408) as input, (-1, 100) as output\n",
    "dense_layer = keras.layers.Dense(units=100, activation=\"relu\")(flatten_layer)\n",
    "\n",
    "# Softmax layer\n",
    "softmax_layer = keras.layers.Dense(units=10, activation=\"softmax\")(dense_layer)\n"
   ]
  },
  {
   "cell_type": "markdown",
   "metadata": {},
   "source": [
    "## compile the model"
   ]
  },
  {
   "cell_type": "code",
   "execution_count": 5,
   "metadata": {
    "collapsed": true
   },
   "outputs": [],
   "source": [
    "model = keras.models.Model(inputs = inputs, outputs = softmax_layer)\n",
    "\n",
    "model.compile(optimizer = keras.optimizers.Adam(),\n",
    "              loss='categorical_crossentropy',\n",
    "              metrics=['accuracy'])"
   ]
  },
  {
   "cell_type": "markdown",
   "metadata": {},
   "source": [
    "## fit the model"
   ]
  },
  {
   "cell_type": "code",
   "execution_count": 6,
   "metadata": {
    "collapsed": true
   },
   "outputs": [],
   "source": [
    "x_train = mnist.train.images\n",
    "y_train = mnist.train.labels"
   ]
  },
  {
   "cell_type": "code",
   "execution_count": 7,
   "metadata": {},
   "outputs": [
    {
     "name": "stdout",
     "output_type": "stream",
     "text": [
      "Epoch 1/2\n",
      "55000/55000 [==============================] - 9s - loss: 0.2925 - acc: 0.9180     \n",
      "Epoch 2/2\n",
      "55000/55000 [==============================] - 8s - loss: 0.0941 - acc: 0.9726     \n"
     ]
    },
    {
     "data": {
      "text/plain": [
       "<tensorflow.contrib.keras.python.keras.callbacks.History at 0x100bf7f0>"
      ]
     },
     "execution_count": 7,
     "metadata": {},
     "output_type": "execute_result"
    }
   ],
   "source": [
    "model.fit(x_train, y_train,\n",
    "          epochs=2,\n",
    "          batch_size=128)"
   ]
  },
  {
   "cell_type": "markdown",
   "metadata": {},
   "source": [
    "## add a node as input"
   ]
  },
  {
   "cell_type": "code",
   "execution_count": 8,
   "metadata": {
    "collapsed": true
   },
   "outputs": [],
   "source": [
    "addl_node = keras.layers.Input(shape=(1,), name = 'addl_node')\n",
    "\n",
    "new_layer = keras.layers.concatenate([dense_layer, addl_node])\n",
    "\n",
    "new_dense_layer = keras.layers.Dense(units=100, activation=\"relu\")(new_layer)\n",
    "\n",
    "new_softmax_layer = keras.layers.Dense(units=10, activation=\"softmax\")(new_dense_layer)\n",
    "\n",
    "model = keras.models.Model(inputs=[inputs, addl_node], outputs=new_softmax_layer)\n",
    "\n",
    "model.compile(optimizer = keras.optimizers.Adam(),\n",
    "              loss='categorical_crossentropy',\n",
    "              metrics=['accuracy'])"
   ]
  },
  {
   "cell_type": "code",
   "execution_count": 9,
   "metadata": {
    "collapsed": true
   },
   "outputs": [],
   "source": [
    "x_train = mnist.train.images\n",
    "x_addl_node = np.array([1] * 55000)\n",
    "y_train = mnist.train.labels"
   ]
  },
  {
   "cell_type": "code",
   "execution_count": 10,
   "metadata": {},
   "outputs": [
    {
     "name": "stdout",
     "output_type": "stream",
     "text": [
      "Epoch 1/2\n",
      "55000/55000 [==============================] - 8s - loss: 0.1737 - acc: 0.9510     \n",
      "Epoch 2/2\n",
      "55000/55000 [==============================] - 10s - loss: 0.0560 - acc: 0.9827    \n"
     ]
    },
    {
     "data": {
      "text/plain": [
       "<tensorflow.contrib.keras.python.keras.callbacks.History at 0x10f226d8>"
      ]
     },
     "execution_count": 10,
     "metadata": {},
     "output_type": "execute_result"
    }
   ],
   "source": [
    "model.fit([x_train,x_addl_node], y_train,\n",
    "          epochs=2,\n",
    "          batch_size=128,\n",
    "          callbacks=[keras.callbacks.TensorBoard(log_dir='./log_new/', histogram_freq=0, write_graph=True, write_images=True)])"
   ]
  },
  {
   "cell_type": "code",
   "execution_count": null,
   "metadata": {
    "collapsed": true
   },
   "outputs": [],
   "source": []
  }
 ],
 "metadata": {
  "kernelspec": {
   "display_name": "Python [default]",
   "language": "python",
   "name": "python3"
  },
  "language_info": {
   "codemirror_mode": {
    "name": "ipython",
    "version": 3
   },
   "file_extension": ".py",
   "mimetype": "text/x-python",
   "name": "python",
   "nbconvert_exporter": "python",
   "pygments_lexer": "ipython3",
   "version": "3.5.3"
  }
 },
 "nbformat": 4,
 "nbformat_minor": 2
}
