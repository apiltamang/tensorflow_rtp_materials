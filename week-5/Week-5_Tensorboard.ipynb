{
 "cells": [
  {
   "cell_type": "markdown",
   "metadata": {},
   "source": [
    "# Week-5: Create a simple convolution network using tf.contrib.keras"
   ]
  },
  {
   "cell_type": "markdown",
   "metadata": {},
   "source": [
    "## Get the input data (only the first 'n' labels) from MNIST"
   ]
  },
  {
   "cell_type": "code",
   "execution_count": 1,
   "metadata": {
    "scrolled": true
   },
   "outputs": [
    {
     "name": "stdout",
     "output_type": "stream",
     "text": [
      "Extracting MNIST\\train-images-idx3-ubyte.gz\n",
      "Extracting MNIST\\train-labels-idx1-ubyte.gz\n",
      "Extracting MNIST\\t10k-images-idx3-ubyte.gz\n",
      "Extracting MNIST\\t10k-labels-idx1-ubyte.gz\n"
     ]
    }
   ],
   "source": [
    "from tensorflow.examples.tutorials.mnist import input_data\n",
    "mnist = input_data.read_data_sets(\"MNIST\", one_hot=True)"
   ]
  },
  {
   "cell_type": "markdown",
   "metadata": {},
   "source": [
    "## Prepare Session"
   ]
  },
  {
   "cell_type": "code",
   "execution_count": 2,
   "metadata": {
    "collapsed": true
   },
   "outputs": [],
   "source": [
    "import tensorflow as tf\n",
    "from tensorflow.contrib import keras\n",
    "# from tensorflow.contrib.keras.layers import *"
   ]
  },
  {
   "cell_type": "markdown",
   "metadata": {},
   "source": [
    "## Define a sequential model"
   ]
  },
  {
   "cell_type": "code",
   "execution_count": 3,
   "metadata": {
    "collapsed": true
   },
   "outputs": [],
   "source": [
    "model = keras.models.Sequential()\n",
    "\n",
    "# Reshape layer, takes (-1, 784) as input, (-1, 28, 28, 1) as output\n",
    "model.add(keras.layers.Reshape((28, 28, 1), input_shape=(784, )))\n",
    "\n",
    "# Convolution 2D layer, takes (-1, 28, 28, 1) as input, (-1, 13, 13, 32) as output\n",
    "model.add(keras.layers.Conv2D(filters=32, kernel_size=(3,3), strides=(2, 2)))\n",
    "model.add(keras.layers.Activation('relu'))\n",
    "\n",
    "# Flatten layer, takes (-1, 13, 13, 32) as input, (-1, 13*13*32) as output\n",
    "model.add(keras.layers.Flatten())\n",
    "\n",
    "# Dense layer, takes (-1, 5408) as input, (-1, 100) as output\n",
    "model.add(keras.layers.Dense(units=100))\n",
    "model.add(keras.layers.Activation('relu'))\n",
    "\n",
    "# Softmax layer\n",
    "model.add(keras.layers.Dense(units=10))\n",
    "model.add(keras.layers.Activation('softmax'))"
   ]
  },
  {
   "cell_type": "markdown",
   "metadata": {},
   "source": [
    "# compile the model"
   ]
  },
  {
   "cell_type": "code",
   "execution_count": 4,
   "metadata": {
    "collapsed": true
   },
   "outputs": [],
   "source": [
    "adam_optimizer = keras.optimizers.Adam()\n",
    "\n",
    "model.compile(loss='categorical_crossentropy',\n",
    "              optimizer=adam_optimizer,\n",
    "              metrics=['accuracy'])"
   ]
  },
  {
   "cell_type": "markdown",
   "metadata": {},
   "source": [
    "# fit the model"
   ]
  },
  {
   "cell_type": "code",
   "execution_count": 5,
   "metadata": {
    "collapsed": true
   },
   "outputs": [],
   "source": [
    "x_train = mnist.train.images\n",
    "y_train = mnist.train.labels"
   ]
  },
  {
   "cell_type": "code",
   "execution_count": 6,
   "metadata": {},
   "outputs": [
    {
     "name": "stdout",
     "output_type": "stream",
     "text": [
      "Epoch 1/5\n",
      "55000/55000 [==============================] - 9s - loss: 0.2947 - acc: 0.9197     \n",
      "Epoch 2/5\n",
      "55000/55000 [==============================] - 9s - loss: 0.0901 - acc: 0.9732     \n",
      "Epoch 3/5\n",
      "55000/55000 [==============================] - 9s - loss: 0.0571 - acc: 0.9824     \n",
      "Epoch 4/5\n",
      "55000/55000 [==============================] - 9s - loss: 0.0399 - acc: 0.9883     \n",
      "Epoch 5/5\n",
      "55000/55000 [==============================] - 10s - loss: 0.0292 - acc: 0.9914    \n"
     ]
    },
    {
     "data": {
      "text/plain": [
       "<tensorflow.contrib.keras.python.keras.callbacks.History at 0x11095908>"
      ]
     },
     "execution_count": 6,
     "metadata": {},
     "output_type": "execute_result"
    }
   ],
   "source": [
    "model.fit(x_train, y_train,\n",
    "          epochs=5,\n",
    "          batch_size=128,\n",
    "          callbacks=[keras.callbacks.TensorBoard(log_dir='./log', histogram_freq=0, write_graph=True, write_images=True)])"
   ]
  }
 ],
 "metadata": {
  "kernelspec": {
   "display_name": "Python [default]",
   "language": "python",
   "name": "python3"
  },
  "language_info": {
   "codemirror_mode": {
    "name": "ipython",
    "version": 3
   },
   "file_extension": ".py",
   "mimetype": "text/x-python",
   "name": "python",
   "nbconvert_exporter": "python",
   "pygments_lexer": "ipython3",
   "version": "3.5.3"
  }
 },
 "nbformat": 4,
 "nbformat_minor": 2
}
