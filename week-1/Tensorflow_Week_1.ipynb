{
 "cells": [
  {
   "cell_type": "code",
   "execution_count": 1,
   "metadata": {
    "collapsed": true
   },
   "outputs": [],
   "source": [
    "import tensorflow as tf"
   ]
  },
  {
   "cell_type": "markdown",
   "metadata": {},
   "source": [
    "## Hello World in Tensorflow"
   ]
  },
  {
   "cell_type": "code",
   "execution_count": 2,
   "metadata": {
    "collapsed": true
   },
   "outputs": [],
   "source": [
    "hello_constant = tf.constant(\"Hello World\")"
   ]
  },
  {
   "cell_type": "code",
   "execution_count": 3,
   "metadata": {},
   "outputs": [
    {
     "name": "stdout",
     "output_type": "stream",
     "text": [
      "b'Hello World'\n"
     ]
    }
   ],
   "source": [
    "with tf.Session() as sess:\n",
    "    output = sess.run(hello_constant)\n",
    "print(output)"
   ]
  },
  {
   "cell_type": "markdown",
   "metadata": {},
   "source": [
    "## Feed data into a tensor: using a  Constant\n",
    "https://www.tensorflow.org/versions/r0.10/api_docs/python/constant_op/\n",
    "Basic Structure: tf.constant(value, dtype=None, shape=None, name='Const')"
   ]
  },
  {
   "cell_type": "markdown",
   "metadata": {},
   "source": [
    "### Define a Tensor of rank 0, 1, and 2\n",
    "https://www.tensorflow.org/programmers_guide/dims_types"
   ]
  },
  {
   "cell_type": "code",
   "execution_count": 4,
   "metadata": {
    "collapsed": true
   },
   "outputs": [],
   "source": [
    "# Tensor of rank 0 (A scalar)\n",
    "A = tf.constant(1234)"
   ]
  },
  {
   "cell_type": "code",
   "execution_count": 6,
   "metadata": {
    "collapsed": true
   },
   "outputs": [],
   "source": [
    "# Tensor of rank 1 (A vector)\n",
    "vec_0 = tf.constant([12])\n",
    "vec_1 = tf.constant([23,45,23])\n",
    "vec_2 = tf.constant([21,1,23,34,45])"
   ]
  },
  {
   "cell_type": "code",
   "execution_count": 12,
   "metadata": {
    "collapsed": true
   },
   "outputs": [],
   "source": [
    "# Tensor of rank 2\n",
    "mat_0 = tf.constant([ \n",
    "    [], \n",
    "    [] \n",
    "])\n",
    "\n",
    "mat_1 = tf.constant([\n",
    "    [0,1,2],\n",
    "    [1,4,6]\n",
    "])\n",
    "\n",
    "mat_2 = tf.constant([\n",
    "    [21.0, 12.1, 4.9, 6.1],\n",
    "    [12.5, 23.9, 8.4, 5.0]\n",
    "])"
   ]
  },
  {
   "cell_type": "code",
   "execution_count": 9,
   "metadata": {
    "collapsed": true
   },
   "outputs": [],
   "source": [
    "def get_tensor_shape(tensor):\n",
    "    return tensor.get_shape().as_list()"
   ]
  },
  {
   "cell_type": "code",
   "execution_count": 10,
   "metadata": {},
   "outputs": [
    {
     "name": "stdout",
     "output_type": "stream",
     "text": [
      "[2, 0]\n"
     ]
    }
   ],
   "source": [
    "print(get_tensor_shape(mat_0))"
   ]
  },
  {
   "cell_type": "code",
   "execution_count": 11,
   "metadata": {},
   "outputs": [
    {
     "name": "stdout",
     "output_type": "stream",
     "text": [
      "[2, 3]\n"
     ]
    }
   ],
   "source": [
    "print(get_tensor_shape(mat_1))"
   ]
  },
  {
   "cell_type": "code",
   "execution_count": 13,
   "metadata": {},
   "outputs": [
    {
     "name": "stdout",
     "output_type": "stream",
     "text": [
      "[2, 4]\n"
     ]
    }
   ],
   "source": [
    "print(get_tensor_shape(mat_2))"
   ]
  },
  {
   "cell_type": "code",
   "execution_count": 19,
   "metadata": {},
   "outputs": [],
   "source": [
    "# Following triggers an error:\n",
    "\n",
    "mat_4 = tf.constant([\n",
    "    [21.0, 12.1, 4.9],\n",
    "    [12.5, 23.9, 5.5]\n",
    "])"
   ]
  },
  {
   "cell_type": "code",
   "execution_count": 16,
   "metadata": {
    "collapsed": true
   },
   "outputs": [],
   "source": [
    "mat_5 = tf.zeros(shape=(2,3,4), dtype=tf.int32)"
   ]
  },
  {
   "cell_type": "code",
   "execution_count": 17,
   "metadata": {},
   "outputs": [
    {
     "name": "stdout",
     "output_type": "stream",
     "text": [
      "Tensor(\"zeros:0\", shape=(2, 3, 4), dtype=int32)\n"
     ]
    }
   ],
   "source": [
    "print(mat_5)"
   ]
  },
  {
   "cell_type": "markdown",
   "metadata": {
    "collapsed": true
   },
   "source": [
    "## 1. Feeding data into a tensorflow:  using placeholder\n",
    "https://www.tensorflow.org/versions/r0.10/api_docs/python/io_ops/placeholders\n",
    "\n",
    "Basic structure: tf.placeholder(dtype, shape=None, name=None)"
   ]
  },
  {
   "cell_type": "code",
   "execution_count": 24,
   "metadata": {},
   "outputs": [
    {
     "name": "stdout",
     "output_type": "stream",
     "text": [
      "12\n"
     ]
    }
   ],
   "source": [
    "x = tf.placeholder(tf.int32)\n",
    "\n",
    "with tf.Session() as sess:\n",
    "    output = sess.run(x, feed_dict={x : 23})\n",
    "    output = sess.run(x, feed_dict={x : \"5\"}) # okay!\n",
    "    output = sess.run(x, feed_dict={x : 12.34}) # okay!\n",
    "    #output = sess.run(x, feed_dict={x : \"adhf\"}) # NOT okay!\n",
    "print(output)"
   ]
  },
  {
   "cell_type": "markdown",
   "metadata": {},
   "source": [
    "### Performing simple math on Tensorflow"
   ]
  },
  {
   "cell_type": "code",
   "execution_count": 26,
   "metadata": {
    "collapsed": true
   },
   "outputs": [],
   "source": [
    "y = tf.constant(76)"
   ]
  },
  {
   "cell_type": "code",
   "execution_count": 27,
   "metadata": {},
   "outputs": [],
   "source": [
    "z = tf.subtract(56, tf.add(y,x)) # Perform: z = 56 - (x+y)"
   ]
  },
  {
   "cell_type": "code",
   "execution_count": 29,
   "metadata": {},
   "outputs": [
    {
     "name": "stdout",
     "output_type": "stream",
     "text": [
      "-40\n"
     ]
    }
   ],
   "source": [
    "with tf.Session() as sess:\n",
    "    out = sess.run(z, feed_dict={x: 20})\n",
    "    print(out)"
   ]
  },
  {
   "cell_type": "code",
   "execution_count": 30,
   "metadata": {
    "collapsed": true
   },
   "outputs": [],
   "source": [
    "# A matrix-vector multiplication\n",
    "W = tf.constant([\n",
    "  [21, 43],\n",
    "  [12, 34]\n",
    "])\n",
    "\n",
    "x = tf.placeholder(tf.int32, shape=(2,1))"
   ]
  },
  {
   "cell_type": "code",
   "execution_count": 31,
   "metadata": {},
   "outputs": [
    {
     "name": "stdout",
     "output_type": "stream",
     "text": [
      "[[171]\n",
      " [126]]\n"
     ]
    }
   ],
   "source": [
    "z = tf.matmul(W, x)\n",
    "\n",
    "with tf.Session() as sess:\n",
    "    z_out = sess.run(z, feed_dict={x: [ [2],[3] ]})\n",
    "    print(z_out)"
   ]
  },
  {
   "cell_type": "markdown",
   "metadata": {},
   "source": [
    "### Performing a simple linear algebra solution\n",
    "### y = |W . x + b|"
   ]
  },
  {
   "cell_type": "markdown",
   "metadata": {},
   "source": [
    "Steps:\n",
    "1. Define W as a tf.constant with a shape (N_1, N_2)\n",
    "2. Define x as a tf.placeholder with a shape (N_2, N_3)\n",
    "3. Define b as a tf.constant with a shape (N_1, N_3)\n",
    "\n",
    "4. Use tf.matmul to define dot product of W and x\n",
    "5. Use tf.add to define addition, and finally, tf.reduce_sum to reduce the vector to its sum\n",
    "\n",
    "6. Run the computational graph using sess.run to evaluate the norm\n"
   ]
  },
  {
   "cell_type": "markdown",
   "metadata": {},
   "source": [
    "## 2. Feeding data into tensorflow: using tf.Variable( )\n",
    "\n",
    "tf.constant() and tf.placeholder() allows us to define only immutable things. When we work with any kind of machine-learning, we need to update parameters (weights and biases) in our models. Thus, clearly we need something else to define our weights and biases."
   ]
  },
  {
   "cell_type": "code",
   "execution_count": null,
   "metadata": {
    "collapsed": true
   },
   "outputs": [],
   "source": []
  }
 ],
 "metadata": {
  "kernelspec": {
   "display_name": "Python 3",
   "language": "python",
   "name": "python3"
  },
  "language_info": {
   "codemirror_mode": {
    "name": "ipython",
    "version": 3
   },
   "file_extension": ".py",
   "mimetype": "text/x-python",
   "name": "python",
   "nbconvert_exporter": "python",
   "pygments_lexer": "ipython3",
   "version": "3.6.1"
  }
 },
 "nbformat": 4,
 "nbformat_minor": 2
}
